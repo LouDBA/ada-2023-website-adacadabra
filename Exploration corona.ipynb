{
 "cells": [
  {
   "cell_type": "markdown",
   "id": "53a2b9ca-f5b8-4458-baba-a0add2e919e5",
   "metadata": {},
   "source": [
    "# Coronawiki dataset exploration"
   ]
  },
  {
   "cell_type": "markdown",
   "id": "0173e86f-d8e0-4cb1-ada3-cb2e953d9dc9",
   "metadata": {},
   "source": [
    "The purpose of the following notebook is to get familiar with the given Coronawiki data, as it is split among multiple files which serve different purposes.\n",
    "\n",
    "As such, we will attempt to do the following tasks in this notebook:\n",
    "\n",
    "- Preprocessing of the data,to make it more comfortable to use (Split the dataframes, give them another format, etc)\n",
    "- Data wrangling: a lot of the data are timeseries which could be put together to derive interesting results\n",
    "- First analysis phase"
   ]
  },
  {
   "cell_type": "markdown",
   "id": "38023639-fe84-4988-b2ec-e1f66a56447f",
   "metadata": {},
   "source": [
    "## Imports"
   ]
  },
  {
   "cell_type": "code",
   "execution_count": null,
   "id": "c51c2e7a-4e8c-4f27-ab6b-c2ab12b84fb3",
   "metadata": {},
   "outputs": [],
   "source": [
    "import numpy as np\n",
    "import pandas as pd\n",
    "import matplotlib\n",
    "import matplotlib.pyplot as plt\n",
    "import matplotlib.ticker as ticker\n",
    "import seaborn as sns"
   ]
  },
  {
   "cell_type": "markdown",
   "id": "0e78d225-07e1-4f7f-8890-6282358da950",
   "metadata": {
    "tags": []
   },
   "source": [
    "## Timeseries"
   ]
  },
  {
   "cell_type": "markdown",
   "id": "6f9765f8-23a8-47b4-9130-a831b40779dc",
   "metadata": {},
   "source": [
    "The most important data we have in this dataset are time series of the Wikipedia views from 2018 to July 2020 for 14 different languages: one part are the total views for all of that language's wikipedia, a second part are the views for the articles that are related to Covid-19. Finally, we also have for the same window of time the views for different topics."
   ]
  },
  {
   "cell_type": "code",
   "execution_count": 18,
   "id": "deeaf6e7-2a8c-428b-a678-12914bb73472",
   "metadata": {},
   "outputs": [
    {
     "data": {
      "text/html": [
       "<div>\n",
       "<style scoped>\n",
       "    .dataframe tbody tr th:only-of-type {\n",
       "        vertical-align: middle;\n",
       "    }\n",
       "\n",
       "    .dataframe tbody tr th {\n",
       "        vertical-align: top;\n",
       "    }\n",
       "\n",
       "    .dataframe thead th {\n",
       "        text-align: right;\n",
       "    }\n",
       "</style>\n",
       "<table border=\"1\" class=\"dataframe\">\n",
       "  <thead>\n",
       "    <tr style=\"text-align: right;\">\n",
       "      <th></th>\n",
       "      <th>ja.m</th>\n",
       "      <th>it</th>\n",
       "      <th>da.m</th>\n",
       "      <th>tr</th>\n",
       "      <th>no.m</th>\n",
       "      <th>en</th>\n",
       "      <th>sr</th>\n",
       "      <th>tr.m</th>\n",
       "      <th>en.m</th>\n",
       "      <th>no</th>\n",
       "      <th>...</th>\n",
       "      <th>ko.m</th>\n",
       "      <th>fi.m</th>\n",
       "      <th>sr.m</th>\n",
       "      <th>ja</th>\n",
       "      <th>fr</th>\n",
       "      <th>fi</th>\n",
       "      <th>ca</th>\n",
       "      <th>it.m</th>\n",
       "      <th>sv.m</th>\n",
       "      <th>ko</th>\n",
       "    </tr>\n",
       "  </thead>\n",
       "  <tbody>\n",
       "    <tr>\n",
       "      <th>len</th>\n",
       "      <td>1197788</td>\n",
       "      <td>1594039</td>\n",
       "      <td>256451</td>\n",
       "      <td>346007</td>\n",
       "      <td>516838</td>\n",
       "      <td>6047509</td>\n",
       "      <td>632128</td>\n",
       "      <td>345790</td>\n",
       "      <td>6045654</td>\n",
       "      <td>531478</td>\n",
       "      <td>...</td>\n",
       "      <td>489181</td>\n",
       "      <td>480638</td>\n",
       "      <td>396063</td>\n",
       "      <td>1197856</td>\n",
       "      <td>2195949</td>\n",
       "      <td>481854</td>\n",
       "      <td>642031</td>\n",
       "      <td>1588312</td>\n",
       "      <td>1959446</td>\n",
       "      <td>490314</td>\n",
       "    </tr>\n",
       "    <tr>\n",
       "      <th>sum</th>\n",
       "      <td>{'2018-01-01 00:00:00': 22328288, '2018-01-02 ...</td>\n",
       "      <td>{'2018-01-01 00:00:00': 3338750, '2018-01-02 0...</td>\n",
       "      <td>{'2018-01-01 00:00:00': 765123, '2018-01-02 00...</td>\n",
       "      <td>{'2018-01-01 00:00:00': 407629, '2018-01-02 00...</td>\n",
       "      <td>{'2018-01-01 00:00:00': 715031, '2018-01-02 00...</td>\n",
       "      <td>{'2018-01-01 00:00:00': 86763830, '2018-01-02 ...</td>\n",
       "      <td>{'2018-01-01 00:00:00': 192409, '2018-01-02 00...</td>\n",
       "      <td>{'2018-01-01 00:00:00': 493684, '2018-01-02 00...</td>\n",
       "      <td>{'2018-01-01 00:00:00': 135822131, '2018-01-02...</td>\n",
       "      <td>{'2018-01-01 00:00:00': 224417, '2018-01-02 00...</td>\n",
       "      <td>...</td>\n",
       "      <td>{'2018-01-01 00:00:00': 1484496, '2018-01-02 0...</td>\n",
       "      <td>{'2018-01-01 00:00:00': 1319053, '2018-01-02 0...</td>\n",
       "      <td>{'2018-01-01 00:00:00': 451383, '2018-01-02 00...</td>\n",
       "      <td>{'2018-01-01 00:00:00': 7828155, '2018-01-02 0...</td>\n",
       "      <td>{'2018-01-01 00:00:00': 6441009, '2018-01-02 0...</td>\n",
       "      <td>{'2018-01-01 00:00:00': 523135, '2018-01-02 00...</td>\n",
       "      <td>{'2018-01-01 00:00:00': 111910, '2018-01-02 00...</td>\n",
       "      <td>{'2018-01-01 00:00:00': 12856884, '2018-01-02 ...</td>\n",
       "      <td>{'2018-01-01 00:00:00': 2383474, '2018-01-02 0...</td>\n",
       "      <td>{'2018-01-01 00:00:00': 819174, '2018-01-02 00...</td>\n",
       "    </tr>\n",
       "    <tr>\n",
       "      <th>covid</th>\n",
       "      <td>{'len': 30, 'sum': {'2018-01-01 00:00:00': 55,...</td>\n",
       "      <td>{'len': 33, 'sum': {'2018-01-01 00:00:00': 50,...</td>\n",
       "      <td>{'len': 4, 'sum': {'2018-01-01 00:00:00': 0, '...</td>\n",
       "      <td>{'len': 64, 'sum': {'2018-01-01 00:00:00': 1, ...</td>\n",
       "      <td>{'len': 10, 'sum': {'2018-01-01 00:00:00': 7, ...</td>\n",
       "      <td>{'len': 306, 'sum': {'2018-01-01 00:00:00': 57...</td>\n",
       "      <td>{'len': 9, 'sum': {'2018-01-01 00:00:00': 6, '...</td>\n",
       "      <td>{'len': 64, 'sum': {'2018-01-01 00:00:00': 3, ...</td>\n",
       "      <td>{'len': 306, 'sum': {'2018-01-01 00:00:00': 91...</td>\n",
       "      <td>{'len': 10, 'sum': {'2018-01-01 00:00:00': 2, ...</td>\n",
       "      <td>...</td>\n",
       "      <td>{'len': 113, 'sum': {'2018-01-01 00:00:00': 6,...</td>\n",
       "      <td>{'len': 9, 'sum': {'2018-01-01 00:00:00': 0, '...</td>\n",
       "      <td>{'len': 9, 'sum': {'2018-01-01 00:00:00': 11, ...</td>\n",
       "      <td>{'len': 30, 'sum': {'2018-01-01 00:00:00': 26,...</td>\n",
       "      <td>{'len': 16, 'sum': {'2018-01-01 00:00:00': 62,...</td>\n",
       "      <td>{'len': 9, 'sum': {'2018-01-01 00:00:00': 2, '...</td>\n",
       "      <td>{'len': 49, 'sum': {'2018-01-01 00:00:00': 6, ...</td>\n",
       "      <td>{'len': 33, 'sum': {'2018-01-01 00:00:00': 139...</td>\n",
       "      <td>{'len': 8, 'sum': {'2018-01-01 00:00:00': 19, ...</td>\n",
       "      <td>{'len': 113, 'sum': {'2018-01-01 00:00:00': 3,...</td>\n",
       "    </tr>\n",
       "    <tr>\n",
       "      <th>topics</th>\n",
       "      <td>{'Culture.Biography.Biography*': {'len': 14904...</td>\n",
       "      <td>{'Culture.Biography.Biography*': {'len': 29427...</td>\n",
       "      <td>{'Culture.Biography.Biography*': {'len': 57720...</td>\n",
       "      <td>{'Culture.Biography.Biography*': {'len': 70443...</td>\n",
       "      <td>{'Culture.Biography.Biography*': {'len': 11603...</td>\n",
       "      <td>{'Culture.Biography.Biography*': {'len': 14038...</td>\n",
       "      <td>{'Culture.Biography.Biography*': {'len': 37718...</td>\n",
       "      <td>{'Culture.Biography.Biography*': {'len': 70434...</td>\n",
       "      <td>{'Culture.Biography.Biography*': {'len': 14038...</td>\n",
       "      <td>{'Culture.Biography.Biography*': {'len': 11804...</td>\n",
       "      <td>...</td>\n",
       "      <td>{'Culture.Biography.Biography*': {'len': 75406...</td>\n",
       "      <td>{'Culture.Biography.Biography*': {'len': 10422...</td>\n",
       "      <td>{'Culture.Biography.Biography*': {'len': 37580...</td>\n",
       "      <td>{'Culture.Biography.Biography*': {'len': 14904...</td>\n",
       "      <td>{'Culture.Biography.Biography*': {'len': 38258...</td>\n",
       "      <td>{'Culture.Biography.Biography*': {'len': 10444...</td>\n",
       "      <td>{'Culture.Biography.Biography*': {'len': 10175...</td>\n",
       "      <td>{'Culture.Biography.Biography*': {'len': 29422...</td>\n",
       "      <td>{'Culture.Biography.Biography*': {'len': 14668...</td>\n",
       "      <td>{'Culture.Biography.Biography*': {'len': 75498...</td>\n",
       "    </tr>\n",
       "  </tbody>\n",
       "</table>\n",
       "<p>4 rows × 28 columns</p>\n",
       "</div>"
      ],
      "text/plain": [
       "                                                     ja.m  \\\n",
       "len                                               1197788   \n",
       "sum     {'2018-01-01 00:00:00': 22328288, '2018-01-02 ...   \n",
       "covid   {'len': 30, 'sum': {'2018-01-01 00:00:00': 55,...   \n",
       "topics  {'Culture.Biography.Biography*': {'len': 14904...   \n",
       "\n",
       "                                                       it  \\\n",
       "len                                               1594039   \n",
       "sum     {'2018-01-01 00:00:00': 3338750, '2018-01-02 0...   \n",
       "covid   {'len': 33, 'sum': {'2018-01-01 00:00:00': 50,...   \n",
       "topics  {'Culture.Biography.Biography*': {'len': 29427...   \n",
       "\n",
       "                                                     da.m  \\\n",
       "len                                                256451   \n",
       "sum     {'2018-01-01 00:00:00': 765123, '2018-01-02 00...   \n",
       "covid   {'len': 4, 'sum': {'2018-01-01 00:00:00': 0, '...   \n",
       "topics  {'Culture.Biography.Biography*': {'len': 57720...   \n",
       "\n",
       "                                                       tr  \\\n",
       "len                                                346007   \n",
       "sum     {'2018-01-01 00:00:00': 407629, '2018-01-02 00...   \n",
       "covid   {'len': 64, 'sum': {'2018-01-01 00:00:00': 1, ...   \n",
       "topics  {'Culture.Biography.Biography*': {'len': 70443...   \n",
       "\n",
       "                                                     no.m  \\\n",
       "len                                                516838   \n",
       "sum     {'2018-01-01 00:00:00': 715031, '2018-01-02 00...   \n",
       "covid   {'len': 10, 'sum': {'2018-01-01 00:00:00': 7, ...   \n",
       "topics  {'Culture.Biography.Biography*': {'len': 11603...   \n",
       "\n",
       "                                                       en  \\\n",
       "len                                               6047509   \n",
       "sum     {'2018-01-01 00:00:00': 86763830, '2018-01-02 ...   \n",
       "covid   {'len': 306, 'sum': {'2018-01-01 00:00:00': 57...   \n",
       "topics  {'Culture.Biography.Biography*': {'len': 14038...   \n",
       "\n",
       "                                                       sr  \\\n",
       "len                                                632128   \n",
       "sum     {'2018-01-01 00:00:00': 192409, '2018-01-02 00...   \n",
       "covid   {'len': 9, 'sum': {'2018-01-01 00:00:00': 6, '...   \n",
       "topics  {'Culture.Biography.Biography*': {'len': 37718...   \n",
       "\n",
       "                                                     tr.m  \\\n",
       "len                                                345790   \n",
       "sum     {'2018-01-01 00:00:00': 493684, '2018-01-02 00...   \n",
       "covid   {'len': 64, 'sum': {'2018-01-01 00:00:00': 3, ...   \n",
       "topics  {'Culture.Biography.Biography*': {'len': 70434...   \n",
       "\n",
       "                                                     en.m  \\\n",
       "len                                               6045654   \n",
       "sum     {'2018-01-01 00:00:00': 135822131, '2018-01-02...   \n",
       "covid   {'len': 306, 'sum': {'2018-01-01 00:00:00': 91...   \n",
       "topics  {'Culture.Biography.Biography*': {'len': 14038...   \n",
       "\n",
       "                                                       no  ...  \\\n",
       "len                                                531478  ...   \n",
       "sum     {'2018-01-01 00:00:00': 224417, '2018-01-02 00...  ...   \n",
       "covid   {'len': 10, 'sum': {'2018-01-01 00:00:00': 2, ...  ...   \n",
       "topics  {'Culture.Biography.Biography*': {'len': 11804...  ...   \n",
       "\n",
       "                                                     ko.m  \\\n",
       "len                                                489181   \n",
       "sum     {'2018-01-01 00:00:00': 1484496, '2018-01-02 0...   \n",
       "covid   {'len': 113, 'sum': {'2018-01-01 00:00:00': 6,...   \n",
       "topics  {'Culture.Biography.Biography*': {'len': 75406...   \n",
       "\n",
       "                                                     fi.m  \\\n",
       "len                                                480638   \n",
       "sum     {'2018-01-01 00:00:00': 1319053, '2018-01-02 0...   \n",
       "covid   {'len': 9, 'sum': {'2018-01-01 00:00:00': 0, '...   \n",
       "topics  {'Culture.Biography.Biography*': {'len': 10422...   \n",
       "\n",
       "                                                     sr.m  \\\n",
       "len                                                396063   \n",
       "sum     {'2018-01-01 00:00:00': 451383, '2018-01-02 00...   \n",
       "covid   {'len': 9, 'sum': {'2018-01-01 00:00:00': 11, ...   \n",
       "topics  {'Culture.Biography.Biography*': {'len': 37580...   \n",
       "\n",
       "                                                       ja  \\\n",
       "len                                               1197856   \n",
       "sum     {'2018-01-01 00:00:00': 7828155, '2018-01-02 0...   \n",
       "covid   {'len': 30, 'sum': {'2018-01-01 00:00:00': 26,...   \n",
       "topics  {'Culture.Biography.Biography*': {'len': 14904...   \n",
       "\n",
       "                                                       fr  \\\n",
       "len                                               2195949   \n",
       "sum     {'2018-01-01 00:00:00': 6441009, '2018-01-02 0...   \n",
       "covid   {'len': 16, 'sum': {'2018-01-01 00:00:00': 62,...   \n",
       "topics  {'Culture.Biography.Biography*': {'len': 38258...   \n",
       "\n",
       "                                                       fi  \\\n",
       "len                                                481854   \n",
       "sum     {'2018-01-01 00:00:00': 523135, '2018-01-02 00...   \n",
       "covid   {'len': 9, 'sum': {'2018-01-01 00:00:00': 2, '...   \n",
       "topics  {'Culture.Biography.Biography*': {'len': 10444...   \n",
       "\n",
       "                                                       ca  \\\n",
       "len                                                642031   \n",
       "sum     {'2018-01-01 00:00:00': 111910, '2018-01-02 00...   \n",
       "covid   {'len': 49, 'sum': {'2018-01-01 00:00:00': 6, ...   \n",
       "topics  {'Culture.Biography.Biography*': {'len': 10175...   \n",
       "\n",
       "                                                     it.m  \\\n",
       "len                                               1588312   \n",
       "sum     {'2018-01-01 00:00:00': 12856884, '2018-01-02 ...   \n",
       "covid   {'len': 33, 'sum': {'2018-01-01 00:00:00': 139...   \n",
       "topics  {'Culture.Biography.Biography*': {'len': 29422...   \n",
       "\n",
       "                                                     sv.m  \\\n",
       "len                                               1959446   \n",
       "sum     {'2018-01-01 00:00:00': 2383474, '2018-01-02 0...   \n",
       "covid   {'len': 8, 'sum': {'2018-01-01 00:00:00': 19, ...   \n",
       "topics  {'Culture.Biography.Biography*': {'len': 14668...   \n",
       "\n",
       "                                                       ko  \n",
       "len                                                490314  \n",
       "sum     {'2018-01-01 00:00:00': 819174, '2018-01-02 00...  \n",
       "covid   {'len': 113, 'sum': {'2018-01-01 00:00:00': 3,...  \n",
       "topics  {'Culture.Biography.Biography*': {'len': 75498...  \n",
       "\n",
       "[4 rows x 28 columns]"
      ]
     },
     "execution_count": 18,
     "metadata": {},
     "output_type": "execute_result"
    }
   ],
   "source": [
    "timeseries = pd.read_json(\"aggregated_timeseries.json.gz\")\n",
    "timeseries.head()"
   ]
  },
  {
   "cell_type": "code",
   "execution_count": 17,
   "id": "b649c408-ed5b-4c8e-ac9c-5bea8dc8a453",
   "metadata": {},
   "outputs": [
    {
     "data": {
      "text/plain": [
       "Index(['ja.m', 'it', 'da.m', 'tr', 'no.m', 'en', 'sr', 'tr.m', 'en.m', 'no',\n",
       "       'sv', 'nl.m', 'nl', 'da', 'de', 'fr.m', 'ca.m', 'de.m', 'ko.m', 'fi.m',\n",
       "       'sr.m', 'ja', 'fr', 'fi', 'ca', 'it.m', 'sv.m', 'ko'],\n",
       "      dtype='object')"
      ]
     },
     "execution_count": 17,
     "metadata": {},
     "output_type": "execute_result"
    }
   ],
   "source": [
    "timeseries.columns"
   ]
  },
  {
   "cell_type": "markdown",
   "id": "18fad198-ccc3-4c53-b441-8acc7399b9eb",
   "metadata": {},
   "source": [
    "Correspondence:\n",
    "- ja -> Japanese\n",
    "- it -> Italian\n",
    "- da -> Danish\n",
    "- tr -> Turkish?\n",
    "- no -> Norwegian\n",
    "- en -> English\n",
    "- sr -> Serbian\n",
    "- sv -> Swedish\n",
    "- nl -> Dutch\n",
    "- de -> German\n",
    "- fr -> French\n",
    "- ca -> Catalan?\n",
    "- ko -> Korean\n",
    "- fi -> Finnish\n",
    "\n",
    "Not sure about the \"?\" ones. According to https://www.loc.gov/standards/iso639-2/php/langcodes-search.php, these correspond respectively to Turkish and Catalan."
   ]
  },
  {
   "cell_type": "markdown",
   "id": "a6af0543-42ba-4fac-84f5-bd6fb9fcd043",
   "metadata": {},
   "source": [
    "### Splitting the timeseries data into different dataframes"
   ]
  },
  {
   "cell_type": "markdown",
   "id": "956be76d-7cae-4512-8a32-c7cf272f31d2",
   "metadata": {},
   "source": [
    "As we can see, the data's format isn't ideal: for each language, the data is split into 3 Python dictionaries corresponding to the data described above, and it would be nice to separate these pieces of data to be able to read directly for each date, for example, the total number of views accross all languages, instead of having to iterate over each language's dictionnary every time.\n",
    "\n",
    "This will also make the analysis phase easier later on."
   ]
  },
  {
   "cell_type": "markdown",
   "id": "c958e114-0524-4cc0-a7d7-6c773a367460",
   "metadata": {
    "tags": []
   },
   "source": [
    "### Total sum of views, views of articles related to Covid"
   ]
  },
  {
   "cell_type": "markdown",
   "id": "8148dee0-e4c9-4baf-a551-f7279f58af8a",
   "metadata": {},
   "source": [
    "In this part of the code we extract the three following kind of data, for each date:\n",
    "- For every language's Wikipedia, the total number of views on that particular date\n",
    "- For every language's Wikipedia, the total number of views for articles related to Covid-19 on that particular date\n",
    "- For every language's Wikipedia, the percentage of views for articles related to Covid-19 on that particular date\n",
    "\n",
    "Note that the two last dataframes might be redundant, but as we're given the data anyway, we choose to extract it after all.\n",
    "\n",
    "---\n",
    "\n",
    "\n",
    "Every resulting dataframe will have the following format:\n",
    "\n",
    " Column name          | Description                                                                                                                                                                                       |   |   |   |\n",
    "|----------------------|---------------------------------------------------------------------------------------------------------------------------------------------------------------------------------------------------|---|---|---|\n",
    "| dates           | A particular date between January 2018 (inclusive) and July of 2020 (inclusive)                                                                                                                                             |   |   |   |\n",
    "| language_code            | It can either be the total number of views for that language's Wikipedia, the number of views on Covid related articles on that same Wikipedia, or the percentage of these latter. There are 28 of these columns, as there are 14 languages and the data from desktop and mobile are separated.\n",
    "\n",
    "\n",
    "---\n",
    "\n",
    "We also extract another dataframe that simply maps for each language the number of articles that were considered in the original experiment."
   ]
  },
  {
   "cell_type": "code",
   "execution_count": null,
   "id": "747d801b-035b-47b2-ae3a-b71720b08bf7",
   "metadata": {
    "tags": []
   },
   "outputs": [],
   "source": [
    "timeseries_total_sum_dict = {}\n",
    "timeseries_covid_len_dict = {}\n",
    "timeseries_covid_sum_dict = {}\n",
    "timeseries_covid_percent_dict = {}\n",
    "for cn in timeseries.columns:\n",
    "    timeseries_total_sum_dict[cn] = timeseries[cn]['sum']\n",
    "    timeseries_covid_len_dict[cn] = timeseries[cn]['covid']['len']\n",
    "    timeseries_covid_sum_dict[cn] = timeseries[cn]['covid']['sum']\n",
    "    timeseries_covid_percent_dict[cn] = timeseries[cn]['covid']['percent']"
   ]
  },
  {
   "cell_type": "code",
   "execution_count": null,
   "id": "39aad657-d85a-4535-8234-2632d7a97eb4",
   "metadata": {},
   "outputs": [],
   "source": [
    "sum_data_df = pd.DataFrame.from_dict(timeseries_total_sum_dict, orient = 'index').T\n",
    "covid_len_data_df = pd.DataFrame.from_dict(timeseries_covid_len_dict, orient = 'index', columns = ['len']).T\n",
    "covid_sum_data_df = pd.DataFrame.from_dict(timeseries_covid_sum_dict, orient = 'index').T\n",
    "covid_percent_data_df = pd.DataFrame.from_dict(timeseries_covid_percent_dict, orient = 'index').T"
   ]
  },
  {
   "cell_type": "code",
   "execution_count": null,
   "id": "2747f2cf-65a7-48a8-957f-1bebdd8408a3",
   "metadata": {},
   "outputs": [],
   "source": [
    "index_without_time = [x[:10] for x in covid_sum_data_df.index]\n",
    "sum_data_df.index = covid_sum_data_df.index = covid_percent_data_df.index = pd.to_datetime(index_without_time)\n",
    "sum_data_df['dates'] = covid_sum_data_df['dates'] = covid_percent_data_df['dates'] = sum_data_df.index\n",
    "new_column_order = [sum_data_df.columns[-1]] + list(sum_data_df.columns[-2::-1])\n",
    "sum_data_df = sum_data_df[new_column_order]\n",
    "covid_sum_data_df = covid_sum_data_df[new_column_order]\n",
    "covid_percent_data_df = covid_percent_data_df[new_column_order]"
   ]
  },
  {
   "cell_type": "code",
   "execution_count": null,
   "id": "404ef611-f25f-4d80-b02f-207d6eacc0a5",
   "metadata": {},
   "outputs": [],
   "source": [
    "sum_data_df.head()"
   ]
  },
  {
   "cell_type": "code",
   "execution_count": null,
   "id": "eb97cca4-5916-42c4-8068-08d0f69236c4",
   "metadata": {},
   "outputs": [],
   "source": [
    "covid_sum_data_df.head()"
   ]
  },
  {
   "cell_type": "code",
   "execution_count": null,
   "id": "0f3e7f79-4ad2-4521-81d6-7ed03b827f1d",
   "metadata": {},
   "outputs": [],
   "source": [
    "covid_percent_data_df.head()"
   ]
  },
  {
   "cell_type": "markdown",
   "id": "e96da1c7-30e7-46ab-9c34-1fa00e05e490",
   "metadata": {
    "tags": []
   },
   "source": [
    "### Checking for missing data"
   ]
  },
  {
   "cell_type": "markdown",
   "id": "aa7c6c00-548c-4fd6-b0dd-8cced69a4a3d",
   "metadata": {},
   "source": [
    "Before continuing further, let us check for missing data in the timeseries; this will help us avoid bad surprises later on."
   ]
  },
  {
   "cell_type": "code",
   "execution_count": null,
   "id": "eb626920-6a4b-43b7-8d84-a5a7a67d1b4b",
   "metadata": {},
   "outputs": [],
   "source": [
    "sum_data_df.isnull().any().any(), covid_sum_data_df.isnull().any().any(), covid_percent_data_df.isnull().any().any()"
   ]
  },
  {
   "cell_type": "markdown",
   "id": "c77dfa88-b18a-4bb4-a5a9-ee4cd8fe9c5a",
   "metadata": {},
   "source": [
    "There appears to be some missing data in the percentage dataframe; let's check by language where that missing data is reported."
   ]
  },
  {
   "cell_type": "code",
   "execution_count": null,
   "id": "77fee81b-53e2-4f33-b721-35fd53aa1f5d",
   "metadata": {},
   "outputs": [],
   "source": [
    "missing_data_language = covid_percent_data_df.isnull().any(axis = 0)\n",
    "missing_data_language[missing_data_language]"
   ]
  },
  {
   "cell_type": "markdown",
   "id": "21e51a9c-20b9-435f-a955-4a63cde65053",
   "metadata": {},
   "source": [
    "Looking at the paper, this corresponds to Swedish. Let's check in the other dataframes how that missing data manifests itself."
   ]
  },
  {
   "cell_type": "code",
   "execution_count": null,
   "id": "8e1a1c80-5a50-4120-a8e9-6746b87713ad",
   "metadata": {},
   "outputs": [],
   "source": [
    "sum_data_df.loc[:,['dates','sv']]"
   ]
  },
  {
   "cell_type": "code",
   "execution_count": null,
   "id": "a7bb0454-376c-4cf0-93cb-91ab45fff731",
   "metadata": {},
   "outputs": [],
   "source": [
    "covid_sum_data_df.loc[:,['dates', 'sv']]"
   ]
  },
  {
   "cell_type": "markdown",
   "id": "64750a16-d7fe-4818-bcd4-40cf5f5d4cba",
   "metadata": {},
   "source": [
    "In both dataframes, the missing data corresponds to 0 values for the dates. The NaN values thus correspond to a division by 0. Let us now check the first date where we get data for Swedish."
   ]
  },
  {
   "cell_type": "code",
   "execution_count": null,
   "id": "efdabcd4-1d4d-4f0c-8e36-75365b865d43",
   "metadata": {},
   "outputs": [],
   "source": [
    "swedish_mask = sum_data_df.loc[:,'sv'] > 0"
   ]
  },
  {
   "cell_type": "code",
   "execution_count": null,
   "id": "ccb0f79b-2444-4dcb-8626-717206c7c9a9",
   "metadata": {},
   "outputs": [],
   "source": [
    "sum_data_df.loc[:,'sv'][swedish_mask]"
   ]
  },
  {
   "cell_type": "code",
   "execution_count": null,
   "id": "75322a1d-2d80-4126-be8f-e2ecd017f2dd",
   "metadata": {},
   "outputs": [],
   "source": [
    "covid_sum_data_df.loc[:,'sv'][swedish_mask]"
   ]
  },
  {
   "cell_type": "markdown",
   "id": "e3c60ca4-2c4f-4816-afdd-f8130e52e89b",
   "metadata": {},
   "source": [
    "From what we can see, it appears that all the Swedish data from 2018 is missing; we will need to take that into consideration when doing our analysis.\n",
    "\n",
    "The reason behind that is not clear: Wikipedia's swedish version has existed since 2001, and it's strange that the data from a whole year is either missing, or maybe it just hasn't been collected in the first place."
   ]
  },
  {
   "cell_type": "markdown",
   "id": "92981e10-3ca3-40b3-88d5-e95806ad233b",
   "metadata": {
    "tags": []
   },
   "source": [
    "## Topics data"
   ]
  },
  {
   "cell_type": "code",
   "execution_count": null,
   "id": "bbe9b008-63c5-4621-a469-cd2a76d6884e",
   "metadata": {},
   "outputs": [],
   "source": [
    "country_to_topics = {}\n",
    "for cn in timeseries.columns:\n",
    "    country_to_topics[cn] = timeseries[cn]['topics']\n",
    "topics_df = pd.DataFrame.from_dict(country_to_topics, orient = 'index')"
   ]
  },
  {
   "cell_type": "code",
   "execution_count": null,
   "id": "e8e67fda-61ad-45f8-bb20-e74f0932e664",
   "metadata": {},
   "outputs": [],
   "source": [
    "countries_to_topics_len = {}\n",
    "countries_to_topics_sum = {}\n",
    "countries_to_topics_percent = {}\n",
    "for country in topics_df.index:\n",
    "    countries_to_topics_len[country] = {}\n",
    "    countries_to_topics_sum[country] = {}\n",
    "    countries_to_topics_percent[country] = {}\n",
    "    for topic in topics_df.columns:\n",
    "        countries_to_topics_len[country][topic] = topics_df.loc[country,topic]['len']\n",
    "        countries_to_topics_sum[country][topic] = topics_df.loc[country,topic]['sum']\n",
    "        countries_to_topics_percent[country][topic] = topics_df.loc[country,topic]['percent']\n",
    "countries_to_topics_len_df = pd.DataFrame.from_dict(countries_to_topics_len, orient = 'index')\n",
    "countries_to_topics_sum_df = pd.DataFrame.from_dict(countries_to_topics_sum, orient = 'index')\n",
    "countries_to_topics_percent_df = pd.DataFrame.from_dict(countries_to_topics_percent, orient = 'index')"
   ]
  },
  {
   "cell_type": "code",
   "execution_count": null,
   "id": "5c1c6eb1-f422-4523-8c40-add870ef01ca",
   "metadata": {},
   "outputs": [],
   "source": [
    "#countries_to_topics_sum_df.columns"
   ]
  },
  {
   "cell_type": "code",
   "execution_count": null,
   "id": "e6b29dcc-448a-4297-9541-1e94d1550008",
   "metadata": {},
   "outputs": [],
   "source": [
    "sum_environment_df = countries_to_topics_sum_df['STEM.Earth and environment']\n",
    "percent_environment_df = countries_to_topics_percent_df['STEM.Earth and environment']\n",
    "country_to_env_data_sum = {}\n",
    "country_to_env_data_percent = {}\n",
    "for country in sum_environment_df.index:\n",
    "    country_to_env_data_sum[country] = sum_environment_df[country]\n",
    "    country_to_env_data_percent[country] = percent_environment_df[country]\n",
    "sum_environment_df = pd.DataFrame.from_dict(country_to_env_data_sum, orient = 'index').T\n",
    "sum_environment_df.index = index_without_time\n",
    "percent_environment_df = pd.DataFrame.from_dict(country_to_env_data_percent, orient = 'index').T\n",
    "percent_environment_df.index = index_without_time"
   ]
  },
  {
   "cell_type": "code",
   "execution_count": null,
   "id": "3724c2fc-506d-4c1d-87c9-6ce8a439257d",
   "metadata": {},
   "outputs": [],
   "source": [
    "sum_environment_df.head()"
   ]
  },
  {
   "cell_type": "code",
   "execution_count": null,
   "id": "3c7747eb-1689-4bcd-afba-def4a8bb9e3c",
   "metadata": {},
   "outputs": [],
   "source": [
    "percent_environment_df.head()"
   ]
  },
  {
   "cell_type": "markdown",
   "id": "0d8756df-451c-407d-9e78-7de60a6a921f",
   "metadata": {
    "tags": []
   },
   "source": [
    "## Apple mobility"
   ]
  },
  {
   "cell_type": "code",
   "execution_count": null,
   "id": "5ca5d0e9-b298-450d-8b1a-2b11ead28f5f",
   "metadata": {},
   "outputs": [],
   "source": [
    "apple_mobility = pd.read_csv(\"applemobilitytrends-2020-04-20.csv.gz\")\n",
    "#apple_mobility = apple_mobility.T\n",
    "apple_mobility.head()"
   ]
  },
  {
   "cell_type": "code",
   "execution_count": null,
   "id": "9a9fa06d-db95-4cc9-af1f-4bdbceee14d0",
   "metadata": {},
   "outputs": [],
   "source": [
    "apple_mobility.transportation_type.unique()"
   ]
  },
  {
   "cell_type": "code",
   "execution_count": null,
   "id": "26e545d2-eade-4634-89b2-45d2ae14bf22",
   "metadata": {},
   "outputs": [],
   "source": [
    "apple_mobility_walking = apple_mobility[apple_mobility.transportation_type == 'walking']\n",
    "apple_mobility_driving = apple_mobility[apple_mobility.transportation_type == 'driving']\n",
    "apple_mobility_transit = apple_mobility[apple_mobility.transportation_type == 'transit']"
   ]
  },
  {
   "cell_type": "code",
   "execution_count": null,
   "id": "5ed711ea-9cd3-4fa9-b833-beb7a28b3097",
   "metadata": {},
   "outputs": [],
   "source": [
    "apple_mobility_walking_albania = apple_mobility_walking[apple_mobility_walking['region'] == 'Albania']"
   ]
  },
  {
   "cell_type": "code",
   "execution_count": null,
   "id": "f48eff4f-f05a-4bd7-a50c-8a3c057152b4",
   "metadata": {},
   "outputs": [],
   "source": [
    "timeseries_walking_albanian_data = apple_mobility_walking_albania[apple_mobility_walking_albania.columns[3:]]"
   ]
  },
  {
   "cell_type": "code",
   "execution_count": null,
   "id": "19ed9b39-2405-4242-a80d-592067b6e3e6",
   "metadata": {},
   "outputs": [],
   "source": [
    "timeseries_walking_albanian_data.columns = pd.to_datetime(timeseries_walking_albanian_data.columns)"
   ]
  },
  {
   "cell_type": "code",
   "execution_count": null,
   "id": "555812ff-2551-4bf9-a3c8-d461da4bf40c",
   "metadata": {},
   "outputs": [],
   "source": [
    "#timeseries_albanian_data = timeseries_albanian_data.T"
   ]
  },
  {
   "cell_type": "code",
   "execution_count": null,
   "id": "a0b5eb0e-08be-41a5-a0cd-6bfcc4ec8616",
   "metadata": {},
   "outputs": [],
   "source": [
    "timeseries_walking_albanian_data"
   ]
  },
  {
   "cell_type": "code",
   "execution_count": null,
   "id": "ddc51de4-1e61-452e-b2dd-e4a5ac156904",
   "metadata": {},
   "outputs": [],
   "source": [
    "fig = plt.figure()\n",
    "g = sns.lineplot( x = timeseries_walking_albanian_data.columns, y = timeseries_walking_albanian_data.iloc[0])\n",
    "g.xaxis.set_major_locator(ticker.LinearLocator(7))\n",
    "plt.xticks(fontsize=8)\n",
    "g.set(xlabel='Dates', ylabel='Percentage')\n",
    "g.set(title='Albanian walking')"
   ]
  },
  {
   "cell_type": "markdown",
   "id": "6c073d86-ab19-4ac4-badd-1964fd8f6ef2",
   "metadata": {
    "tags": []
   },
   "source": [
    "## Global mobility"
   ]
  },
  {
   "cell_type": "code",
   "execution_count": null,
   "id": "d6bd92cd-d97c-4b8e-9ab7-452405c5e590",
   "metadata": {},
   "outputs": [],
   "source": [
    "global_mobility_report = pd.read_csv(\"Global_Mobility_Report.csv.gz\")\n",
    "global_mobility_report"
   ]
  },
  {
   "cell_type": "markdown",
   "id": "cec3520c-e6f1-4aad-9d20-e26f11905234",
   "metadata": {
    "tags": []
   },
   "source": [
    "## Interventions"
   ]
  },
  {
   "cell_type": "code",
   "execution_count": null,
   "id": "9973ea25-9f2c-48af-b150-05a941d8988a",
   "metadata": {},
   "outputs": [],
   "source": [
    "interventions = pd.read_csv(\"interventions.csv\")\n",
    "interventions"
   ]
  },
  {
   "cell_type": "markdown",
   "id": "fe2b010d-f886-478f-8bc1-822d7e9c7030",
   "metadata": {
    "tags": []
   },
   "source": [
    "## Topics"
   ]
  },
  {
   "cell_type": "code",
   "execution_count": null,
   "id": "b192856b-95ed-471c-89ce-6fe5e3d0a789",
   "metadata": {},
   "outputs": [],
   "source": [
    "topics_linked = pd.read_csv(\"topics_linked.csv.xz\")\n",
    "topics_linked"
   ]
  }
 ],
 "metadata": {
  "kernelspec": {
   "display_name": "Python 3 (ipykernel)",
   "language": "python",
   "name": "python3"
  },
  "language_info": {
   "codemirror_mode": {
    "name": "ipython",
    "version": 3
   },
   "file_extension": ".py",
   "mimetype": "text/x-python",
   "name": "python",
   "nbconvert_exporter": "python",
   "pygments_lexer": "ipython3",
   "version": "3.7.13"
  }
 },
 "nbformat": 4,
 "nbformat_minor": 5
}
